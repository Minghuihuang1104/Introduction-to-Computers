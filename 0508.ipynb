{
  "nbformat": 4,
  "nbformat_minor": 0,
  "metadata": {
    "colab": {
      "provenance": [],
      "authorship_tag": "ABX9TyMwcrW855szA0elK5gRrKtG",
      "include_colab_link": true
    },
    "kernelspec": {
      "name": "python3",
      "display_name": "Python 3"
    },
    "language_info": {
      "name": "python"
    }
  },
  "cells": [
    {
      "cell_type": "markdown",
      "metadata": {
        "id": "view-in-github",
        "colab_type": "text"
      },
      "source": [
        "<a href=\"https://colab.research.google.com/github/Minghuihuang1104/Introduction-to-Computers/blob/main/0508.ipynb\" target=\"_parent\"><img src=\"https://colab.research.google.com/assets/colab-badge.svg\" alt=\"Open In Colab\"/></a>"
      ]
    },
    {
      "cell_type": "code",
      "execution_count": null,
      "metadata": {
        "colab": {
          "base_uri": "https://localhost:8080/"
        },
        "id": "HCPF5IxePh6V",
        "outputId": "0f622cea-75eb-4d28-c4cd-d68728748e1c"
      },
      "outputs": [
        {
          "output_type": "stream",
          "name": "stdout",
          "text": [
            "hi\n"
          ]
        }
      ],
      "source": [
        "print(\"hi\")"
      ]
    },
    {
      "cell_type": "code",
      "source": [
        "成績 = int(input(\"請輸入成績：\"))\n",
        "if 成績 > 60 and 成績 <= 100:\n",
        "  print(\"恭喜及格!\")\n",
        "elif 成績 > 100:\n",
        "  print(\"不要亂打\")\n",
        "else:\n",
        "    print(\"再接再厲\")"
      ],
      "metadata": {
        "id": "3jW1GSuAPm6t"
      },
      "execution_count": null,
      "outputs": []
    },
    {
      "cell_type": "code",
      "source": [
        "score = int(input(\"請輸入分數:\"))\n",
        "if score >= 60:\n",
        "  print(\"及格\")\n",
        "else:\n",
        "  print(\"不及格\")"
      ],
      "metadata": {
        "colab": {
          "base_uri": "https://localhost:8080/"
        },
        "id": "cfNnUlSRRZVC",
        "outputId": "7ef04ebd-8be6-4205-a203-4404cdc1061f"
      },
      "execution_count": null,
      "outputs": [
        {
          "output_type": "stream",
          "name": "stdout",
          "text": [
            "請輸入分數:40\n",
            "不及格\n"
          ]
        }
      ]
    },
    {
      "cell_type": "code",
      "source": [
        "密碼 = int(input(\"請輸入密碼:\"))\n",
        "if 密碼 == 1234:\n",
        "  print(\"歡迎光臨!\") \n",
        "else:\n",
        "  print(\"密碼錯誤\") "
      ],
      "metadata": {
        "colab": {
          "base_uri": "https://localhost:8080/"
        },
        "id": "WhrQUFM5R6uS",
        "outputId": "304b377c-7b3d-4750-81c9-a501ddcf291d"
      },
      "execution_count": null,
      "outputs": [
        {
          "output_type": "stream",
          "name": "stdout",
          "text": [
            "請輸入密碼:0712\n",
            "密碼錯誤\n"
          ]
        }
      ]
    },
    {
      "cell_type": "code",
      "source": [
        "數字 = int(input(\"請輸入正整數:\"))\n",
        "餘數 = 數字 % 2\n",
        "if 餘數 == 0:\n",
        "  print(數字,\"為偶數!\")\n",
        "else:\n",
        "  print(數字,\"為奇數!\") "
      ],
      "metadata": {
        "colab": {
          "base_uri": "https://localhost:8080/"
        },
        "id": "SDpuxJ04UjbB",
        "outputId": "a08f2929-ca34-4171-c94a-3888091db950"
      },
      "execution_count": null,
      "outputs": [
        {
          "output_type": "stream",
          "name": "stdout",
          "text": [
            "請輸入正整數:3\n",
            "3 為奇數!\n"
          ]
        }
      ]
    },
    {
      "cell_type": "code",
      "source": [
        "答案 = str(input(\"今天會下雨嗎？(用Y or N作答)\"))\n",
        "if (答案==\"Y\" or 答案==\"y\"):\n",
        "  print(\"出門記得帶傘!\")\n",
        "elif(答案==\"N\" or 答案==\"n\"):  \n",
        "  print(\"不用帶傘\")\n",
        "else:\n",
        "  print(\"錯誤\")"
      ],
      "metadata": {
        "colab": {
          "base_uri": "https://localhost:8080/"
        },
        "id": "0UGgx-nYV5QB",
        "outputId": "5a891b72-7cb7-44c7-eaad-db6b6fe70ab4"
      },
      "execution_count": null,
      "outputs": [
        {
          "output_type": "stream",
          "name": "stdout",
          "text": [
            "今天會下雨嗎？(用Y or N作答)bibi\n",
            "錯誤\n"
          ]
        }
      ]
    }
  ]
}