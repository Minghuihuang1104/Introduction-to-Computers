{
  "nbformat": 4,
  "nbformat_minor": 0,
  "metadata": {
    "colab": {
      "provenance": [],
      "authorship_tag": "ABX9TyMs9KOQD2g2fkJK8Fv3yxCX",
      "include_colab_link": true
    },
    "kernelspec": {
      "name": "python3",
      "display_name": "Python 3"
    },
    "language_info": {
      "name": "python"
    }
  },
  "cells": [
    {
      "cell_type": "markdown",
      "metadata": {
        "id": "view-in-github",
        "colab_type": "text"
      },
      "source": [
        "<a href=\"https://colab.research.google.com/github/Minghuihuang1104/Introduction-to-Computers/blob/main/0515.ipynb\" target=\"_parent\"><img src=\"https://colab.research.google.com/assets/colab-badge.svg\" alt=\"Open In Colab\"/></a>"
      ]
    },
    {
      "cell_type": "code",
      "source": [
        "答案 = str(input(\"今天會下雨嗎？(用Y or N作答):\"))\n",
        "if (答案==\"Y\" or 答案==\"y\"):\n",
        "  print(\"出門記得帶傘!\")\n",
        "elif(答案==\"N\" or 答案==\"n\"):  \n",
        "  print(\"不用帶傘\")\n",
        "else:\n",
        "  print(\"錯誤\")"
      ],
      "metadata": {
        "colab": {
          "base_uri": "https://localhost:8080/"
        },
        "id": "WthGNqIVT-CS",
        "outputId": "9d4a77bf-abde-43a6-ea08-027a4f255d6b"
      },
      "execution_count": null,
      "outputs": [
        {
          "output_type": "stream",
          "name": "stdout",
          "text": [
            "今天會下雨嗎？(用Y or N作答)y\n",
            "出門記得帶傘!\n"
          ]
        }
      ]
    },
    {
      "cell_type": "code",
      "source": [
        "體溫 = float(input(\"請輸入體溫：\"))\n",
        "if (體溫>=37.5):\n",
        "  print(\"體溫過高！\")\n",
        "elif (體溫<37.5 and 體溫>=37):  \n",
        "  print(\"體溫略高！\")\n",
        "elif (體溫<37 and 體溫>=36.9):\n",
        "  print(\"體溫正常！\")\n",
        "else:\n",
        "  print(\"體溫異常，請重新測量！\")"
      ],
      "metadata": {
        "colab": {
          "base_uri": "https://localhost:8080/"
        },
        "id": "DyhVeww1Ui6Q",
        "outputId": "d617e50a-3186-431f-9fc1-bdbaafb7321f"
      },
      "execution_count": null,
      "outputs": [
        {
          "output_type": "stream",
          "name": "stdout",
          "text": [
            "請輸入體溫：37.2\n",
            "體溫略高！\n"
          ]
        }
      ]
    },
    {
      "cell_type": "code",
      "source": [
        "成績 = int(input(\"請輸入成績：\"))\n",
        "if (成績>=90):\n",
        "  print(\"A\")\n",
        "elif (成績<90 and 成績>=80):  \n",
        "  print(\"B\")\n",
        "elif (成績<80 and 成績>=70):\n",
        "  print(\"C\")\n",
        "elif (成績<70 and 成績>=60):\n",
        "  print(\"D\")\n",
        "else:\n",
        "  print(\"E\")"
      ],
      "metadata": {
        "colab": {
          "base_uri": "https://localhost:8080/"
        },
        "id": "9Xq4FAAQfpM7",
        "outputId": "a41f7763-2857-441e-8b40-46c41f214255"
      },
      "execution_count": 29,
      "outputs": [
        {
          "output_type": "stream",
          "name": "stdout",
          "text": [
            "請輸入成績：100\n",
            "A\n"
          ]
        }
      ]
    },
    {
      "cell_type": "code",
      "source": [
        "月份 = int(input(\"請輸入月份：\"))\n",
        "if (月份 == 3 or 月份 == 4 or 月份 == 5):\n",
        "  print(月份,\"月是春天！\")\n",
        "elif (月份 == 6 or 月份 == 7 or 月份 == 8):  \n",
        "  print(月份,\"月是夏天！\")\n",
        "elif (月份 == 9 or 月份 == 10 or 月份 == 11):\n",
        "  print(月份,\"月是秋天！\")\n",
        "elif (月份 == 12 or 月份 == 1 or 月份 == 2):\n",
        "  print(月份,\"月是冬天！\")\n",
        "else:\n",
        "  print(\"月份不在範圍內！\")"
      ],
      "metadata": {
        "colab": {
          "base_uri": "https://localhost:8080/"
        },
        "id": "tWDLmAFsf2Y1",
        "outputId": "6080c3f7-0ea5-4138-f7c8-29d38ebe9b13"
      },
      "execution_count": 40,
      "outputs": [
        {
          "output_type": "stream",
          "name": "stdout",
          "text": [
            "請輸入月份：9\n",
            "9 月是秋天！\n"
          ]
        }
      ]
    },
    {
      "cell_type": "code",
      "source": [
        "rev = float(input(\"請輸入今年收入淨額：\"))\n",
        "if (rev >= 2000000):\n",
        "  print(\"賦稅金額：\", rev*0.3,\"元\")\n",
        "elif (rev >= 1000000):  \n",
        "  print(\"賦稅金額：\", rev*0.21,\"元\")\n",
        "elif (rev >= 600000):\n",
        "  print(\"賦稅金額：\", rev*0.13,\"元\")\n",
        "elif (rev >= 300000 ):\n",
        "  print(\"賦稅金額：\", rev*0.06,\"元\")"
      ],
      "metadata": {
        "colab": {
          "base_uri": "https://localhost:8080/"
        },
        "id": "y0oFxd8GgueQ",
        "outputId": "a527ea19-9821-4004-d9d6-147b58059aff"
      },
      "execution_count": 42,
      "outputs": [
        {
          "output_type": "stream",
          "name": "stdout",
          "text": [
            "請輸入今年收入淨額：20000000000\n",
            "賦稅金額： 6000000000.0 元\n"
          ]
        }
      ]
    },
    {
      "cell_type": "code",
      "source": [
        "sp = int(input(\"請輸入購物金額：\"))\n",
        "if (sp >= 100000):\n",
        "  print(\"打八折\", float(sp*0.8),\"元\")\n",
        "elif (sp >= 50000):  \n",
        "  print(\"打八五折\", float(sp*0.85),\"元\")\n",
        "elif (sp >= 30000):\n",
        "  print(\"打九折\", float(sp*0.9),\"元\")\n",
        "else:\n",
        "  print(\"沒打折\", sp, \"元\")"
      ],
      "metadata": {
        "colab": {
          "base_uri": "https://localhost:8080/"
        },
        "id": "9ylk76B3g4Hh",
        "outputId": "6d700d06-a037-4215-af86-08d9f13c3057"
      },
      "execution_count": 44,
      "outputs": [
        {
          "output_type": "stream",
          "name": "stdout",
          "text": [
            "請輸入購物金額：9999\n",
            "沒打折 9999 元\n"
          ]
        }
      ]
    }
  ]
}